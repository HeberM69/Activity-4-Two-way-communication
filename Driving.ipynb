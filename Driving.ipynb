{
 "cells": [
  {
   "cell_type": "code",
   "execution_count": 2,
   "metadata": {
    "collapsed": true,
    "ExecuteTime": {
     "end_time": "2023-11-18T04:08:10.332197200Z",
     "start_time": "2023-11-18T04:08:06.053194900Z"
    }
   },
   "outputs": [],
   "source": [
    "import agentpy as ap\n",
    "from owlready2 import *\n",
    "import random"
   ]
  },
  {
   "cell_type": "code",
   "execution_count": 6,
   "outputs": [
    {
     "name": "stdout",
     "output_type": "stream",
     "text": [
      "driving_onto.Entity\n",
      "<generator object _GraphManager.classes at 0x000001D6161C7300>\n",
      "[driving_onto.Driver, driving_onto.Location, driving_onto.Agent, driving_onto.Entity, driving_onto.Vehicle, driving_onto.PointA, driving_onto.PointB]\n"
     ]
    }
   ],
   "source": [
    "#onto = get_ontology(\"file:///Multi Agentes/driving_onto.rdf\").load()\n",
    "onto = get_ontology(\"file:///AgentPy/Activity-4-Two-way-communication/driving_onto.rdf\").load()\n",
    "\n",
    "with onto:\n",
    "    class Entity(Thing):\n",
    "        pass\n",
    "\n",
    "    class Agent(Entity):\n",
    "        pass\n",
    "\n",
    "    class Driver(Agent):\n",
    "        pass\n",
    "\n",
    "    class Vehicle(Agent):\n",
    "        pass\n",
    "\n",
    "    class Location(Entity):\n",
    "        pass\n",
    "\n",
    "    class PointA(Location):\n",
    "        pass\n",
    "\n",
    "    class PointB(Location):\n",
    "        pass\n",
    "\n",
    "    class is_at(ObjectProperty):\n",
    "        domain = [Agent]\n",
    "        range = [Location]\n",
    "\n",
    "    class has_destination(ObjectProperty):\n",
    "        domain = [Driver]\n",
    "        range = [Location]\n",
    "\n",
    "    print(onto.Entity)\n",
    "    print(onto.classes())\n",
    "    print(list(onto.classes()))\n",
    "# Save the ontology if needed\n",
    "# onto.save(file=\"path_to_save.owl\", format=\"rdfxml\")\n"
   ],
   "metadata": {
    "collapsed": false,
    "ExecuteTime": {
     "end_time": "2023-11-18T04:10:34.662272400Z",
     "start_time": "2023-11-18T04:10:34.582272600Z"
    }
   }
  },
  {
   "cell_type": "code",
   "execution_count": 3,
   "outputs": [],
   "source": [
    "class DriverAgent(ap.Agent):\n",
    "    def setup(self):\n",
    "        self.beliefs = {'current_location': (0, 0), 'path_index': 0}\n",
    "        self.path = [(1, 0), (1, 0), (0, 1), (0, 1), (-1, 0)]  # Sample path\n",
    "        self.destination = 'B'\n",
    "\n",
    "    def see(self, model):\n",
    "        # Pass the model instead of the grid\n",
    "        self.beliefs['current_location'] = model.get_agent_location(self)\n",
    "\n",
    "    def decide(self):\n",
    "        if self.destination == 'B':\n",
    "            if self.beliefs['path_index'] < len(self.path):\n",
    "                self.intentions = self.path[self.beliefs['path_index']]\n",
    "                self.beliefs['path_index'] += 1\n",
    "            else:\n",
    "                self.destination = 'A'\n",
    "        elif self.destination == 'A':\n",
    "            # Logic to return to Point A (reverse path)\n",
    "            pass\n",
    "\n",
    "    def send_message(self, vehicle):\n",
    "        if self.intentions:\n",
    "            vehicle.receive_message(self.intentions)\n",
    "\n"
   ],
   "metadata": {
    "collapsed": false,
    "ExecuteTime": {
     "end_time": "2023-11-18T02:56:16.176920Z",
     "start_time": "2023-11-18T02:56:16.139920400Z"
    }
   }
  },
  {
   "cell_type": "code",
   "execution_count": 4,
   "outputs": [],
   "source": [
    "class VehicleAgent(ap.Agent):\n",
    "    def setup(self):\n",
    "        self.position = (0, 0)  # Starting at Point A\n",
    "\n",
    "    def receive_message(self, message):\n",
    "        self.move(message)\n",
    "\n",
    "    def move(self, direction):\n",
    "        dx, dy = direction\n",
    "        new_x = self.position[0] + dx\n",
    "        new_y = self.position[1] + dy\n",
    "        self.position = (new_x, new_y)\n",
    "\n",
    "    def inform(self, driver):\n",
    "        # For now, let's just print the information\n",
    "        print(f'Moved to {self.position}')\n"
   ],
   "metadata": {
    "collapsed": false,
    "ExecuteTime": {
     "end_time": "2023-11-18T02:56:16.193921400Z",
     "start_time": "2023-11-18T02:56:16.152920700Z"
    }
   }
  },
  {
   "cell_type": "code",
   "execution_count": 5,
   "outputs": [],
   "source": [
    "class TransportModel(ap.Model):\n",
    "    def setup(self):\n",
    "        self.grid = ap.Grid(self, self.p['worldSize'], track_empty=True)\n",
    "        self.driver = DriverAgent(self)\n",
    "        self.vehicle = VehicleAgent(self)\n",
    "\n",
    "        # Provide a list of positions for each agent\n",
    "        self.grid.add_agents([self.driver], [(0, 0)])  # Wrap the position in a list\n",
    "        self.grid.add_agents([self.vehicle], [(0, 0)])  # Wrap the position in a list\n",
    "\n",
    "    def step(self):\n",
    "        self.driver.see(self)  # Pass the model itself\n",
    "        self.driver.decide()\n",
    "        if self.driver.intentions:\n",
    "            self.driver.send_message(self.vehicle)\n",
    "            self.vehicle.inform(self.driver)\n",
    "\n",
    "    def get_agent_location(self, agent):\n",
    "        return self.grid.positions[agent]\n"
   ],
   "metadata": {
    "collapsed": false,
    "ExecuteTime": {
     "end_time": "2023-11-18T02:56:16.194922700Z",
     "start_time": "2023-11-18T02:56:16.177921Z"
    }
   }
  },
  {
   "cell_type": "code",
   "execution_count": 6,
   "outputs": [
    {
     "name": "stdout",
     "output_type": "stream",
     "text": [
      "Moved to (1, 0)\n",
      "Completed: 1 stepsMoved to (2, 0)\n",
      "Completed: 2 stepsMoved to (2, 1)\n",
      "Completed: 3 stepsMoved to (2, 2)\n",
      "Completed: 4 stepsMoved to (1, 2)\n",
      "Completed: 5 stepsMoved to (0, 2)\n",
      "Completed: 6 stepsMoved to (-1, 2)\n",
      "Completed: 7 stepsMoved to (-2, 2)\n",
      "Completed: 8 stepsMoved to (-3, 2)\n",
      "Completed: 9 stepsMoved to (-4, 2)\n",
      "Completed: 10 stepsMoved to (-5, 2)\n",
      "Completed: 11 stepsMoved to (-6, 2)\n",
      "Completed: 12 stepsMoved to (-7, 2)\n",
      "Completed: 13 stepsMoved to (-8, 2)\n",
      "Completed: 14 stepsMoved to (-9, 2)\n",
      "Completed: 15 stepsMoved to (-10, 2)\n",
      "Completed: 16 stepsMoved to (-11, 2)\n",
      "Completed: 17 stepsMoved to (-12, 2)\n",
      "Completed: 18 stepsMoved to (-13, 2)\n",
      "Completed: 19 stepsMoved to (-14, 2)\n",
      "Completed: 20 stepsMoved to (-15, 2)\n",
      "Completed: 21 stepsMoved to (-16, 2)\n",
      "Completed: 22 stepsMoved to (-17, 2)\n",
      "Completed: 23 stepsMoved to (-18, 2)\n",
      "Completed: 24 stepsMoved to (-19, 2)\n",
      "Completed: 25 stepsMoved to (-20, 2)\n",
      "Completed: 26 stepsMoved to (-21, 2)\n",
      "Completed: 27 stepsMoved to (-22, 2)\n",
      "Completed: 28 stepsMoved to (-23, 2)\n",
      "Completed: 29 stepsMoved to (-24, 2)\n",
      "Completed: 30 stepsMoved to (-25, 2)\n",
      "Completed: 31 stepsMoved to (-26, 2)\n",
      "Completed: 32 stepsMoved to (-27, 2)\n",
      "Completed: 33 stepsMoved to (-28, 2)\n",
      "Completed: 34 stepsMoved to (-29, 2)\n",
      "Completed: 35 stepsMoved to (-30, 2)\n",
      "Completed: 36 stepsMoved to (-31, 2)\n",
      "Completed: 37 stepsMoved to (-32, 2)\n",
      "Completed: 38 stepsMoved to (-33, 2)\n",
      "Completed: 39 stepsMoved to (-34, 2)\n",
      "Completed: 40 stepsMoved to (-35, 2)\n",
      "Completed: 41 stepsMoved to (-36, 2)\n",
      "Completed: 42 stepsMoved to (-37, 2)\n",
      "Completed: 43 stepsMoved to (-38, 2)\n",
      "Completed: 44 stepsMoved to (-39, 2)\n",
      "Completed: 45 stepsMoved to (-40, 2)\n",
      "Completed: 46 stepsMoved to (-41, 2)\n",
      "Completed: 47 stepsMoved to (-42, 2)\n",
      "Completed: 48 stepsMoved to (-43, 2)\n",
      "Completed: 49 stepsMoved to (-44, 2)\n",
      "Completed: 50 steps\n",
      "Run time: 0:00:00.001999\n",
      "Simulation finished\n"
     ]
    }
   ],
   "source": [
    "r = random.random()\n",
    "\n",
    "parameters = {\n",
    "    \"driverAgent\": 1,        # Number of Driver Agents\n",
    "    \"vehicleAgent\": 1,       # Number of Vehicle Agents\n",
    "    \"worldSize\": (10, 10),   # Size of the grid world\n",
    "    \"steps\": 50,             # Maximum number of steps to simulate\n",
    "    \"seed\": 13 * r           # Seed for random variables\n",
    "}\n",
    "model = TransportModel(parameters)\n",
    "results = model.run()\n"
   ],
   "metadata": {
    "collapsed": false,
    "ExecuteTime": {
     "end_time": "2023-11-18T02:56:16.439922900Z",
     "start_time": "2023-11-18T02:56:16.182922400Z"
    }
   }
  }
 ],
 "metadata": {
  "kernelspec": {
   "display_name": "Python 3",
   "language": "python",
   "name": "python3"
  },
  "language_info": {
   "codemirror_mode": {
    "name": "ipython",
    "version": 2
   },
   "file_extension": ".py",
   "mimetype": "text/x-python",
   "name": "python",
   "nbconvert_exporter": "python",
   "pygments_lexer": "ipython2",
   "version": "2.7.6"
  }
 },
 "nbformat": 4,
 "nbformat_minor": 0
}
